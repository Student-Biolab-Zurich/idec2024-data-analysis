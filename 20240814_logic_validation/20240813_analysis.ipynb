{
 "cells": [
  {
   "cell_type": "markdown",
   "metadata": {
    "id": "bnqY4zNU-wjT"
   },
   "source": [
    "## Parse Data"
   ]
  },
  {
   "cell_type": "code",
   "execution_count": 4,
   "metadata": {
    "executionInfo": {
     "elapsed": 4393,
     "status": "ok",
     "timestamp": 1727343579332,
     "user": {
      "displayName": "Pau Jorba",
      "userId": "02024135728754551544"
     },
     "user_tz": -120
    },
    "id": "MwydLqCx-uNn"
   },
   "outputs": [],
   "source": [
    "import pandas as pd\n",
    "import seaborn as sns\n",
    "import matplotlib.pyplot as plt\n",
    "\n",
    "def bars(df, **kwargs):\n",
    "    ax = sns.barplot(data=df,alpha=0.8, **kwargs)\n",
    "    ax = sns.stripplot(data=df, ax=ax, size=6, dodge=True, legend=False,  edgecolor='black', linewidth=1, **kwargs)\n",
    "    if 'hue' in kwargs.keys():\n",
    "      plt.legend(loc='upper left', bbox_to_anchor=(1, 1))\n",
    "    return ax"
   ]
  },
  {
   "cell_type": "code",
   "execution_count": 5,
   "metadata": {
    "colab": {
     "base_uri": "https://localhost:8080/",
     "height": 391
    },
    "executionInfo": {
     "elapsed": 1983,
     "status": "error",
     "timestamp": 1727343744689,
     "user": {
      "displayName": "Pau Jorba",
      "userId": "02024135728754551544"
     },
     "user_tz": -120
    },
    "id": "UYN4xCksx66W",
    "outputId": "f45356b3-c549-46eb-bf68-96886744e29d"
   },
   "outputs": [
    {
     "data": {
      "text/html": [
       "<div>\n",
       "<style scoped>\n",
       "    .dataframe tbody tr th:only-of-type {\n",
       "        vertical-align: middle;\n",
       "    }\n",
       "\n",
       "    .dataframe tbody tr th {\n",
       "        vertical-align: top;\n",
       "    }\n",
       "\n",
       "    .dataframe thead th {\n",
       "        text-align: right;\n",
       "    }\n",
       "</style>\n",
       "<table border=\"1\" class=\"dataframe\">\n",
       "  <thead>\n",
       "    <tr style=\"text-align: right;\">\n",
       "      <th></th>\n",
       "      <th>Well</th>\n",
       "      <th>Cp</th>\n",
       "      <th>Strain</th>\n",
       "      <th>Phage</th>\n",
       "      <th>L1</th>\n",
       "      <th>L2</th>\n",
       "      <th>Substrate</th>\n",
       "      <th>Promoter</th>\n",
       "    </tr>\n",
       "  </thead>\n",
       "  <tbody>\n",
       "    <tr>\n",
       "      <th>0</th>\n",
       "      <td>A12</td>\n",
       "      <td>16.90</td>\n",
       "      <td>S2060 - 2009/1033</td>\n",
       "      <td>SIAH1</td>\n",
       "      <td>1033</td>\n",
       "      <td>2009</td>\n",
       "      <td>EGLN3-WT</td>\n",
       "      <td>strong</td>\n",
       "    </tr>\n",
       "    <tr>\n",
       "      <th>1</th>\n",
       "      <td>B12</td>\n",
       "      <td>17.55</td>\n",
       "      <td>S2060 - 2009/1033</td>\n",
       "      <td>SIAH1</td>\n",
       "      <td>1033</td>\n",
       "      <td>2009</td>\n",
       "      <td>EGLN3-WT</td>\n",
       "      <td>strong</td>\n",
       "    </tr>\n",
       "    <tr>\n",
       "      <th>2</th>\n",
       "      <td>C12</td>\n",
       "      <td>19.48</td>\n",
       "      <td>S2060 - 2009/1033</td>\n",
       "      <td>SIAH2</td>\n",
       "      <td>1033</td>\n",
       "      <td>2009</td>\n",
       "      <td>EGLN3-WT</td>\n",
       "      <td>strong</td>\n",
       "    </tr>\n",
       "    <tr>\n",
       "      <th>3</th>\n",
       "      <td>D12</td>\n",
       "      <td>19.52</td>\n",
       "      <td>S2060 - 2009/1033</td>\n",
       "      <td>SIAH2</td>\n",
       "      <td>1033</td>\n",
       "      <td>2009</td>\n",
       "      <td>EGLN3-WT</td>\n",
       "      <td>strong</td>\n",
       "    </tr>\n",
       "    <tr>\n",
       "      <th>4</th>\n",
       "      <td>E12</td>\n",
       "      <td>16.57</td>\n",
       "      <td>S2060 - 2009/1033</td>\n",
       "      <td>TadA</td>\n",
       "      <td>1033</td>\n",
       "      <td>2009</td>\n",
       "      <td>EGLN3-WT</td>\n",
       "      <td>strong</td>\n",
       "    </tr>\n",
       "    <tr>\n",
       "      <th>...</th>\n",
       "      <td>...</td>\n",
       "      <td>...</td>\n",
       "      <td>...</td>\n",
       "      <td>...</td>\n",
       "      <td>...</td>\n",
       "      <td>...</td>\n",
       "      <td>...</td>\n",
       "      <td>...</td>\n",
       "    </tr>\n",
       "    <tr>\n",
       "      <th>157</th>\n",
       "      <td>C23</td>\n",
       "      <td>17.50</td>\n",
       "      <td>S2060 - 2008/1096</td>\n",
       "      <td>TadA</td>\n",
       "      <td>1096</td>\n",
       "      <td>2008</td>\n",
       "      <td>EGLN3-pep</td>\n",
       "      <td>weak</td>\n",
       "    </tr>\n",
       "    <tr>\n",
       "      <th>158</th>\n",
       "      <td>E23</td>\n",
       "      <td>17.15</td>\n",
       "      <td>S2060 - 2008/1098</td>\n",
       "      <td>TadA</td>\n",
       "      <td>1098</td>\n",
       "      <td>2008</td>\n",
       "      <td>FIQDVEP</td>\n",
       "      <td>weak</td>\n",
       "    </tr>\n",
       "    <tr>\n",
       "      <th>159</th>\n",
       "      <td>G23</td>\n",
       "      <td>16.11</td>\n",
       "      <td>S2060 - 2008/1099</td>\n",
       "      <td>TadA</td>\n",
       "      <td>1099</td>\n",
       "      <td>2008</td>\n",
       "      <td>MIQDVEP</td>\n",
       "      <td>weak</td>\n",
       "    </tr>\n",
       "    <tr>\n",
       "      <th>160</th>\n",
       "      <td>M23</td>\n",
       "      <td>17.10</td>\n",
       "      <td>LB</td>\n",
       "      <td>TadA</td>\n",
       "      <td>&lt;NA&gt;</td>\n",
       "      <td>&lt;NA&gt;</td>\n",
       "      <td>&lt;NA&gt;</td>\n",
       "      <td>&lt;NA&gt;</td>\n",
       "    </tr>\n",
       "    <tr>\n",
       "      <th>161</th>\n",
       "      <td>O23</td>\n",
       "      <td>NaN</td>\n",
       "      <td>S2208</td>\n",
       "      <td>TadA</td>\n",
       "      <td>&lt;NA&gt;</td>\n",
       "      <td>&lt;NA&gt;</td>\n",
       "      <td>&lt;NA&gt;</td>\n",
       "      <td>&lt;NA&gt;</td>\n",
       "    </tr>\n",
       "  </tbody>\n",
       "</table>\n",
       "<p>162 rows × 8 columns</p>\n",
       "</div>"
      ],
      "text/plain": [
       "    Well     Cp             Strain  Phage    L1    L2  Substrate Promoter\n",
       "0    A12  16.90  S2060 - 2009/1033  SIAH1  1033  2009   EGLN3-WT   strong\n",
       "1    B12  17.55  S2060 - 2009/1033  SIAH1  1033  2009   EGLN3-WT   strong\n",
       "2    C12  19.48  S2060 - 2009/1033  SIAH2  1033  2009   EGLN3-WT   strong\n",
       "3    D12  19.52  S2060 - 2009/1033  SIAH2  1033  2009   EGLN3-WT   strong\n",
       "4    E12  16.57  S2060 - 2009/1033   TadA  1033  2009   EGLN3-WT   strong\n",
       "..   ...    ...                ...    ...   ...   ...        ...      ...\n",
       "157  C23  17.50  S2060 - 2008/1096   TadA  1096  2008  EGLN3-pep     weak\n",
       "158  E23  17.15  S2060 - 2008/1098   TadA  1098  2008    FIQDVEP     weak\n",
       "159  G23  16.11  S2060 - 2008/1099   TadA  1099  2008    MIQDVEP     weak\n",
       "160  M23  17.10                 LB   TadA  <NA>  <NA>       <NA>     <NA>\n",
       "161  O23    NaN              S2208   TadA  <NA>  <NA>       <NA>     <NA>\n",
       "\n",
       "[162 rows x 8 columns]"
      ]
     },
     "execution_count": 5,
     "metadata": {},
     "output_type": "execute_result"
    }
   ],
   "source": [
    "import pandas as pd\n",
    "from pathlib import Path\n",
    "\n",
    "d = pd.read_excel('240814_qPCR_processed.xlsx')[['Well', 'Cp', 'Strain', 'Phage']]\n",
    "d['L1'] = d.Strain.map(lambda x: x.split('/')[-1].strip() if '/' in x else pd.NA)\n",
    "d['L2'] = d.Strain.map(lambda x: x.split('/')[0].split(' - ')[-1] if '/' in x else pd.NA)\n",
    "d['Phage'] = d.Phage.str.strip()\n",
    "d['Strain'] = d.Strain.str.strip()\n",
    "d = d[d.Phage != '-']\n",
    "l1_degron = {'1102': 'FIADWEP', '1076': 'EGLN3-WT', '1098': 'FIQDVEP', '1099': 'MIQDVEP', '1033': 'EGLN3-WT', '1035': 'a-syn', '1081': 'a-syn', '1096': 'EGLN3-pep' }\n",
    "l1_promoter = {l1: 'strong' if l1 in {'1031', '1033', '1035'} else 'weak' for l1 in l1_degron.keys()}\n",
    "d['Substrate'] = d.L1.map(lambda x: l1_degron.get(x, pd.NA))\n",
    "d['Promoter'] = d.L1.map(lambda x: l1_promoter.get(x, pd.NA))\n",
    "d"
   ]
  },
  {
   "cell_type": "code",
   "execution_count": 6,
   "metadata": {
    "executionInfo": {
     "elapsed": 5,
     "status": "aborted",
     "timestamp": 1727343608663,
     "user": {
      "displayName": "Pau Jorba",
      "userId": "02024135728754551544"
     },
     "user_tz": -120
    },
    "id": "mBzij_qPx66Y"
   },
   "outputs": [],
   "source": [
    "d.to_excel('240814_qPCR_processed.xlsx', index=False)"
   ]
  },
  {
   "cell_type": "markdown",
   "metadata": {
    "id": "-MfGDiCP-5C1"
   },
   "source": [
    "## Compute Propagation"
   ]
  },
  {
   "cell_type": "code",
   "execution_count": 7,
   "metadata": {
    "executionInfo": {
     "elapsed": 5,
     "status": "aborted",
     "timestamp": 1727343608664,
     "user": {
      "displayName": "Pau Jorba",
      "userId": "02024135728754551544"
     },
     "user_tz": -120
    },
    "id": "nIMzE5jBGiCd"
   },
   "outputs": [
    {
     "data": {
      "text/html": [
       "<div>\n",
       "<style scoped>\n",
       "    .dataframe tbody tr th:only-of-type {\n",
       "        vertical-align: middle;\n",
       "    }\n",
       "\n",
       "    .dataframe tbody tr th {\n",
       "        vertical-align: top;\n",
       "    }\n",
       "\n",
       "    .dataframe thead th {\n",
       "        text-align: right;\n",
       "    }\n",
       "</style>\n",
       "<table border=\"1\" class=\"dataframe\">\n",
       "  <thead>\n",
       "    <tr style=\"text-align: right;\">\n",
       "      <th></th>\n",
       "      <th>Well</th>\n",
       "      <th>Cp</th>\n",
       "      <th>Strain</th>\n",
       "      <th>Phage</th>\n",
       "      <th>L1</th>\n",
       "      <th>L2</th>\n",
       "      <th>Substrate</th>\n",
       "      <th>Promoter</th>\n",
       "    </tr>\n",
       "  </thead>\n",
       "  <tbody>\n",
       "    <tr>\n",
       "      <th>154</th>\n",
       "      <td>M22</td>\n",
       "      <td>17.14</td>\n",
       "      <td>LB</td>\n",
       "      <td>TadA</td>\n",
       "      <td>&lt;NA&gt;</td>\n",
       "      <td>&lt;NA&gt;</td>\n",
       "      <td>&lt;NA&gt;</td>\n",
       "      <td>&lt;NA&gt;</td>\n",
       "    </tr>\n",
       "    <tr>\n",
       "      <th>160</th>\n",
       "      <td>M23</td>\n",
       "      <td>17.10</td>\n",
       "      <td>LB</td>\n",
       "      <td>TadA</td>\n",
       "      <td>&lt;NA&gt;</td>\n",
       "      <td>&lt;NA&gt;</td>\n",
       "      <td>&lt;NA&gt;</td>\n",
       "      <td>&lt;NA&gt;</td>\n",
       "    </tr>\n",
       "  </tbody>\n",
       "</table>\n",
       "</div>"
      ],
      "text/plain": [
       "    Well     Cp Strain Phage    L1    L2 Substrate Promoter\n",
       "154  M22  17.14     LB  TadA  <NA>  <NA>      <NA>     <NA>\n",
       "160  M23  17.10     LB  TadA  <NA>  <NA>      <NA>     <NA>"
      ]
     },
     "execution_count": 7,
     "metadata": {},
     "output_type": "execute_result"
    }
   ],
   "source": [
    "d[(d.Strain == 'LB') & (d.Cp < 20)]"
   ]
  },
  {
   "cell_type": "code",
   "execution_count": 8,
   "metadata": {
    "colab": {
     "base_uri": "https://localhost:8080/",
     "height": 176
    },
    "executionInfo": {
     "elapsed": 12,
     "status": "error",
     "timestamp": 1727343608954,
     "user": {
      "displayName": "Pau Jorba",
      "userId": "02024135728754551544"
     },
     "user_tz": -120
    },
    "id": "8PUqK0xR_DPt",
    "outputId": "c4cea65b-2412-4db9-8d26-ff70e774d1d9"
   },
   "outputs": [
    {
     "data": {
      "image/png": "[encoded data removed]",
      "text/plain": [
       "<Figure size 640x480 with 1 Axes>"
      ]
     },
     "metadata": {},
     "output_type": "display_data"
    }
   ],
   "source": [
    "import seaborn as sns\n",
    "\n",
    "_ = bars(d[(d.Strain == 'LB') & (d.Cp > 20)], x='Phage', y='Cp')"
   ]
  },
  {
   "cell_type": "code",
   "execution_count": 9,
   "metadata": {
    "colab": {
     "base_uri": "https://localhost:8080/",
     "height": 453
    },
    "executionInfo": {
     "elapsed": 688,
     "status": "ok",
     "timestamp": 1726477527981,
     "user": {
      "displayName": "Sasha Melkonyan",
      "userId": "08992816470667256695"
     },
     "user_tz": -120
    },
    "id": "SoV8NCHt_GIZ",
    "outputId": "e0fb2a64-c3c1-4745-886d-9cebc0199338"
   },
   "outputs": [
    {
     "data": {
      "image/png": "[encoded data removed]",
      "text/plain": [
       "<Figure size 640x480 with 1 Axes>"
      ]
     },
     "metadata": {},
     "output_type": "display_data"
    }
   ],
   "source": [
    "_ = bars(d[d.Strain == 'S2208'], x='Phage', y='Cp')"
   ]
  },
  {
   "cell_type": "code",
   "execution_count": 10,
   "metadata": {
    "id": "HB4ba999-_DM"
   },
   "outputs": [],
   "source": [
    "d['cp_init'] = pd.NA\n",
    "for phage in ['SIAH1', 'SIAH2', 'TadA']:\n",
    "    d.loc[d.Phage == phage, 'cp_init'] = d[(d.Phage == phage) & (d.Strain == 'LB')].Cp.mean() # & (d.Cp > 20)].Cp.mean()\n",
    "d['log2(Fold Change)'] = d.cp_init - d.Cp"
   ]
  },
  {
   "cell_type": "code",
   "execution_count": 11,
   "metadata": {
    "id": "l941uzyJF5At"
   },
   "outputs": [],
   "source": [
    "d.loc[d.Strain == 'S2208', 'Substrate'] = 'PC'\n",
    "d.Phage = d.Phage.map({'SIAH1': 'SIAH1-SP', 'SIAH2': 'SIAH2-SP', 'TadA': 'UN-SP'})\n",
    "d.Substrate = d.Substrate.map(lambda x: {'EGLN3-WT': 'EGLN3', 'a-syn': 'SNCA'}.get(x, x))"
   ]
  },
  {
   "cell_type": "code",
   "execution_count": 12,
   "metadata": {
    "colab": {
     "base_uri": "https://localhost:8080/",
     "height": 424
    },
    "executionInfo": {
     "elapsed": 276,
     "status": "ok",
     "timestamp": 1726478495659,
     "user": {
      "displayName": "Sasha Melkonyan",
      "userId": "08992816470667256695"
     },
     "user_tz": -120
    },
    "id": "8OwA67iEIokd",
    "outputId": "e0703756-cde4-4418-b029-92f2cbec3390"
   },
   "outputs": [
    {
     "data": {
      "text/html": [
       "<div>\n",
       "<style scoped>\n",
       "    .dataframe tbody tr th:only-of-type {\n",
       "        vertical-align: middle;\n",
       "    }\n",
       "\n",
       "    .dataframe tbody tr th {\n",
       "        vertical-align: top;\n",
       "    }\n",
       "\n",
       "    .dataframe thead th {\n",
       "        text-align: right;\n",
       "    }\n",
       "</style>\n",
       "<table border=\"1\" class=\"dataframe\">\n",
       "  <thead>\n",
       "    <tr style=\"text-align: right;\">\n",
       "      <th></th>\n",
       "      <th>Well</th>\n",
       "      <th>Cp</th>\n",
       "      <th>Strain</th>\n",
       "      <th>Phage</th>\n",
       "      <th>L1</th>\n",
       "      <th>L2</th>\n",
       "      <th>Substrate</th>\n",
       "      <th>Promoter</th>\n",
       "      <th>cp_init</th>\n",
       "      <th>log2(Fold Change)</th>\n",
       "    </tr>\n",
       "  </thead>\n",
       "  <tbody>\n",
       "    <tr>\n",
       "      <th>0</th>\n",
       "      <td>A12</td>\n",
       "      <td>16.90</td>\n",
       "      <td>S2060 - 2009/1033</td>\n",
       "      <td>SIAH1-SP</td>\n",
       "      <td>1033</td>\n",
       "      <td>2009</td>\n",
       "      <td>EGLN3</td>\n",
       "      <td>strong</td>\n",
       "      <td>23.931667</td>\n",
       "      <td>7.031667</td>\n",
       "    </tr>\n",
       "    <tr>\n",
       "      <th>1</th>\n",
       "      <td>B12</td>\n",
       "      <td>17.55</td>\n",
       "      <td>S2060 - 2009/1033</td>\n",
       "      <td>SIAH1-SP</td>\n",
       "      <td>1033</td>\n",
       "      <td>2009</td>\n",
       "      <td>EGLN3</td>\n",
       "      <td>strong</td>\n",
       "      <td>23.931667</td>\n",
       "      <td>6.381667</td>\n",
       "    </tr>\n",
       "    <tr>\n",
       "      <th>2</th>\n",
       "      <td>C12</td>\n",
       "      <td>19.48</td>\n",
       "      <td>S2060 - 2009/1033</td>\n",
       "      <td>SIAH2-SP</td>\n",
       "      <td>1033</td>\n",
       "      <td>2009</td>\n",
       "      <td>EGLN3</td>\n",
       "      <td>strong</td>\n",
       "      <td>24.586667</td>\n",
       "      <td>5.106667</td>\n",
       "    </tr>\n",
       "    <tr>\n",
       "      <th>3</th>\n",
       "      <td>D12</td>\n",
       "      <td>19.52</td>\n",
       "      <td>S2060 - 2009/1033</td>\n",
       "      <td>SIAH2-SP</td>\n",
       "      <td>1033</td>\n",
       "      <td>2009</td>\n",
       "      <td>EGLN3</td>\n",
       "      <td>strong</td>\n",
       "      <td>24.586667</td>\n",
       "      <td>5.066667</td>\n",
       "    </tr>\n",
       "    <tr>\n",
       "      <th>4</th>\n",
       "      <td>E12</td>\n",
       "      <td>16.57</td>\n",
       "      <td>S2060 - 2009/1033</td>\n",
       "      <td>UN-SP</td>\n",
       "      <td>1033</td>\n",
       "      <td>2009</td>\n",
       "      <td>EGLN3</td>\n",
       "      <td>strong</td>\n",
       "      <td>21.445</td>\n",
       "      <td>4.875</td>\n",
       "    </tr>\n",
       "    <tr>\n",
       "      <th>...</th>\n",
       "      <td>...</td>\n",
       "      <td>...</td>\n",
       "      <td>...</td>\n",
       "      <td>...</td>\n",
       "      <td>...</td>\n",
       "      <td>...</td>\n",
       "      <td>...</td>\n",
       "      <td>...</td>\n",
       "      <td>...</td>\n",
       "      <td>...</td>\n",
       "    </tr>\n",
       "    <tr>\n",
       "      <th>157</th>\n",
       "      <td>C23</td>\n",
       "      <td>17.50</td>\n",
       "      <td>S2060 - 2008/1096</td>\n",
       "      <td>UN-SP</td>\n",
       "      <td>1096</td>\n",
       "      <td>2008</td>\n",
       "      <td>EGLN3-pep</td>\n",
       "      <td>weak</td>\n",
       "      <td>21.445</td>\n",
       "      <td>3.945</td>\n",
       "    </tr>\n",
       "    <tr>\n",
       "      <th>158</th>\n",
       "      <td>E23</td>\n",
       "      <td>17.15</td>\n",
       "      <td>S2060 - 2008/1098</td>\n",
       "      <td>UN-SP</td>\n",
       "      <td>1098</td>\n",
       "      <td>2008</td>\n",
       "      <td>FIQDVEP</td>\n",
       "      <td>weak</td>\n",
       "      <td>21.445</td>\n",
       "      <td>4.295</td>\n",
       "    </tr>\n",
       "    <tr>\n",
       "      <th>159</th>\n",
       "      <td>G23</td>\n",
       "      <td>16.11</td>\n",
       "      <td>S2060 - 2008/1099</td>\n",
       "      <td>UN-SP</td>\n",
       "      <td>1099</td>\n",
       "      <td>2008</td>\n",
       "      <td>MIQDVEP</td>\n",
       "      <td>weak</td>\n",
       "      <td>21.445</td>\n",
       "      <td>5.335</td>\n",
       "    </tr>\n",
       "    <tr>\n",
       "      <th>160</th>\n",
       "      <td>M23</td>\n",
       "      <td>17.10</td>\n",
       "      <td>LB</td>\n",
       "      <td>UN-SP</td>\n",
       "      <td>&lt;NA&gt;</td>\n",
       "      <td>&lt;NA&gt;</td>\n",
       "      <td>&lt;NA&gt;</td>\n",
       "      <td>&lt;NA&gt;</td>\n",
       "      <td>21.445</td>\n",
       "      <td>4.345</td>\n",
       "    </tr>\n",
       "    <tr>\n",
       "      <th>161</th>\n",
       "      <td>O23</td>\n",
       "      <td>NaN</td>\n",
       "      <td>S2208</td>\n",
       "      <td>UN-SP</td>\n",
       "      <td>&lt;NA&gt;</td>\n",
       "      <td>&lt;NA&gt;</td>\n",
       "      <td>PC</td>\n",
       "      <td>&lt;NA&gt;</td>\n",
       "      <td>21.445</td>\n",
       "      <td>NaN</td>\n",
       "    </tr>\n",
       "  </tbody>\n",
       "</table>\n",
       "<p>162 rows × 10 columns</p>\n",
       "</div>"
      ],
      "text/plain": [
       "    Well     Cp             Strain     Phage    L1    L2  Substrate Promoter  \\\n",
       "0    A12  16.90  S2060 - 2009/1033  SIAH1-SP  1033  2009      EGLN3   strong   \n",
       "1    B12  17.55  S2060 - 2009/1033  SIAH1-SP  1033  2009      EGLN3   strong   \n",
       "2    C12  19.48  S2060 - 2009/1033  SIAH2-SP  1033  2009      EGLN3   strong   \n",
       "3    D12  19.52  S2060 - 2009/1033  SIAH2-SP  1033  2009      EGLN3   strong   \n",
       "4    E12  16.57  S2060 - 2009/1033     UN-SP  1033  2009      EGLN3   strong   \n",
       "..   ...    ...                ...       ...   ...   ...        ...      ...   \n",
       "157  C23  17.50  S2060 - 2008/1096     UN-SP  1096  2008  EGLN3-pep     weak   \n",
       "158  E23  17.15  S2060 - 2008/1098     UN-SP  1098  2008    FIQDVEP     weak   \n",
       "159  G23  16.11  S2060 - 2008/1099     UN-SP  1099  2008    MIQDVEP     weak   \n",
       "160  M23  17.10                 LB     UN-SP  <NA>  <NA>       <NA>     <NA>   \n",
       "161  O23    NaN              S2208     UN-SP  <NA>  <NA>         PC     <NA>   \n",
       "\n",
       "       cp_init log2(Fold Change)  \n",
       "0    23.931667          7.031667  \n",
       "1    23.931667          6.381667  \n",
       "2    24.586667          5.106667  \n",
       "3    24.586667          5.066667  \n",
       "4       21.445             4.875  \n",
       "..         ...               ...  \n",
       "157     21.445             3.945  \n",
       "158     21.445             4.295  \n",
       "159     21.445             5.335  \n",
       "160     21.445             4.345  \n",
       "161     21.445               NaN  \n",
       "\n",
       "[162 rows x 10 columns]"
      ]
     },
     "execution_count": 12,
     "metadata": {},
     "output_type": "execute_result"
    }
   ],
   "source": [
    "d"
   ]
  },
  {
   "cell_type": "code",
   "execution_count": 15,
   "metadata": {
    "colab": {
     "base_uri": "https://localhost:8080/",
     "height": 473
    },
    "executionInfo": {
     "elapsed": 1064,
     "status": "ok",
     "timestamp": 1726478533889,
     "user": {
      "displayName": "Sasha Melkonyan",
      "userId": "08992816470667256695"
     },
     "user_tz": -120
    },
    "id": "BwSf8Y6Mx66Z",
    "outputId": "03bcb414-b5d6-4d5d-ca76-bdfa16f2f647"
   },
   "outputs": [
    {
     "data": {
      "image/png": "[encoded data removed]",
      "text/plain": [
       "<Figure size 640x480 with 1 Axes>"
      ]
     },
     "metadata": {},
     "output_type": "display_data"
    }
   ],
   "source": [
    "d_sub = d[((d.Substrate.isin({'EGLN3', 'SNCA'}) & (d.Promoter == 'strong')))]\n",
    "ax = bars(d_sub, x='Phage', y='log2(Fold Change)', hue='Substrate')\n",
    "ax.set_ylim(0, 12)\n",
    "plt.savefig('../figs/20240813_fig1B.pdf', format='pdf')"
   ]
  },
  {
   "cell_type": "code",
   "execution_count": 17,
   "metadata": {
    "colab": {
     "base_uri": "https://localhost:8080/",
     "height": 449
    },
    "executionInfo": {
     "elapsed": 454,
     "status": "ok",
     "timestamp": 1726477529148,
     "user": {
      "displayName": "Sasha Melkonyan",
      "userId": "08992816470667256695"
     },
     "user_tz": -120
    },
    "id": "o-Uhs4BRx66Z",
    "outputId": "39eb6164-9e2f-4418-97ac-6b7b2e26faae"
   },
   "outputs": [
    {
     "data": {
      "image/png": "[encoded data removed]",
      "text/plain": [
       "<Figure size 640x480 with 1 Axes>"
      ]
     },
     "metadata": {},
     "output_type": "display_data"
    }
   ],
   "source": [
    "d_promoter = d[(d.Substrate.isin({'SNCA'}))]\n",
    "_ = bars(d_promoter, x='Phage', y='log2(Fold Change)', hue='Promoter')"
   ]
  },
  {
   "cell_type": "code",
   "execution_count": null,
   "metadata": {
    "colab": {
     "base_uri": "https://localhost:8080/",
     "height": 449
    },
    "executionInfo": {
     "elapsed": 3031,
     "status": "ok",
     "timestamp": 1726478585121,
     "user": {
      "displayName": "Sasha Melkonyan",
      "userId": "08992816470667256695"
     },
     "user_tz": -120
    },
    "id": "vLVMs9nox66a",
    "outputId": "d296617b-8258-421b-8c86-7e941d87d0e8"
   },
   "outputs": [],
   "source": [
    "d_degron = d[(d.Substrate.isin({'FIADWEP', 'EGLN3-WT', 'FIQDVEP', 'MIQDVEP', 'EGLN3-pep'})) & (d.Promoter == 'weak')]\n",
    "_ = bars(d_degron, x='Phage', y='log2(Fold Change)', hue='Substrate')\n"
   ]
  },
  {
   "cell_type": "code",
   "execution_count": 19,
   "metadata": {
    "colab": {
     "base_uri": "https://localhost:8080/",
     "height": 629
    },
    "executionInfo": {
     "elapsed": 2321,
     "status": "ok",
     "timestamp": 1726481162947,
     "user": {
      "displayName": "Sasha Melkonyan",
      "userId": "08992816470667256695"
     },
     "user_tz": -120
    },
    "id": "RVDfC9jgJcGY",
    "outputId": "e38745a6-3854-4276-8102-ef212beb9edb"
   },
   "outputs": [
    {
     "name": "stderr",
     "output_type": "stream",
     "text": [
      "/var/folders/5b/cl1vpvwx7z12hpb0ntpgryk40000gp/T/ipykernel_92291/914964815.py:6: UserWarning: set_ticklabels() should only be used with a fixed number of ticks, i.e. after set_ticks() or using a FixedLocator.\n",
      "  ax.set_xticklabels(ax.get_xticklabels(), rotation=45)\n"
     ]
    },
    {
     "data": {
      "image/png": "[encoded data removed]",
      "text/plain": [
       "<Figure size 640x480 with 1 Axes>"
      ]
     },
     "metadata": {},
     "output_type": "display_data"
    }
   ],
   "source": [
    "d_degron = d[(d.Substrate.isin({'EGLN3', 'FIADWEP', 'FIQDVEP', 'MIQDVEP'})) & (d.Promoter == 'weak')]\n",
    "d_degron = d_degron.sort_values(by='Substrate', key=lambda x: pd.Categorical(x, categories=['EGLN3', 'FIQDVEP', 'MIQDVEP', 'FIADWEP'], ordered=True))\n",
    "d_degron.Substrate = d_degron.Substrate.map(lambda x: {'EGLN3': 'FIADVEP (WT)'}.get(x, x))\n",
    "ax = bars(d_degron, x='Substrate', y='log2(Fold Change)', hue='Phage')\n",
    "ax.set_ylim(0, 12)\n",
    "ax.set_xticklabels(ax.get_xticklabels(), rotation=45)\n",
    "plt.savefig('../figs/20240813_fig2.pdf', format='pdf')"
   ]
  },
  {
   "cell_type": "code",
   "execution_count": null,
   "metadata": {
    "colab": {
     "base_uri": "https://localhost:8080/"
    },
    "executionInfo": {
     "elapsed": 256,
     "status": "ok",
     "timestamp": 1726479245245,
     "user": {
      "displayName": "Sasha Melkonyan",
      "userId": "08992816470667256695"
     },
     "user_tz": -120
    },
    "id": "66vDXKXFKNl-",
    "outputId": "76453fa2-230e-48a1-c536-c57fe297adc9"
   },
   "outputs": [],
   "source": [
    "d.Substrate.unique()"
   ]
  },
  {
   "cell_type": "code",
   "execution_count": null,
   "metadata": {
    "id": "nl2_FoZVtkma"
   },
   "outputs": [],
   "source": []
  }
 ],
 "metadata": {
  "colab": {
   "provenance": []
  },
  "kernelspec": {
   "display_name": "Python 3 (ipykernel)",
   "language": "python",
   "name": "python3"
  },
  "language_info": {
   "codemirror_mode": {
    "name": "ipython",
    "version": 3
   },
   "file_extension": ".py",
   "mimetype": "text/x-python",
   "name": "python",
   "nbconvert_exporter": "python",
   "pygments_lexer": "ipython3",
   "version": "3.12.2"
  }
 },
 "nbformat": 4,
 "nbformat_minor": 4
}
